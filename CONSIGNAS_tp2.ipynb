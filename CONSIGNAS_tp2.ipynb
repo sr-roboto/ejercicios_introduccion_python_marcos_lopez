{
 "cells": [
  {
   "cell_type": "markdown",
   "metadata": {},
   "source": [
    "# Criterios de evaluación.\n",
    "\n",
    "* Se deben utilizar nombres de variables descriptivos y claros.\n",
    "* Cada ejercicio debe ser realizado utilizando **FUNCIONES**, NO solo codigo suelto.\n",
    "* Comentarios claros y concisos que expliquen el propósito de cada sección del código.\n",
    "* Entrega en tiempo y forma.\n",
    "* Todo el código desarrollado debe ser subido a un repositorio en GitHub.\n",
    "\n",
    "\n",
    "**Aclaración: Para resolver las actividades se debe incertar casillas de codigo entre cada actividad del cuaderno de Jupyter**"
   ]
  },
  {
   "cell_type": "markdown",
   "metadata": {},
   "source": [
    "### 1. **Bucles**\n",
    "\n",
    "   - **Actividad 1.1**: Escribir un programa que muestre el print de todo lo que el usuario introduzca hasta que el usuario escriba “salir” que terminará.\n",
    "   \n",
    "   - **Actividad 1.2**: Escribir un programa que pida al usuario un número entero y muestre por pantalla un triángulo rectángulo como el de más abajo con la cantidad de escalones indicados previamente (los numeros dentro del triangulo deben ser enteros aleatorios del 0 al 9).\n",
    "* 1\n",
    "* 3 1\n",
    "* 5 3 1\n",
    "* 7 5 3 1\n",
    "* 9 7 5 3 1"
   ]
  },
  {
   "cell_type": "code",
   "execution_count": 1,
   "metadata": {},
   "outputs": [
    {
     "name": "stdout",
     "output_type": "stream",
     "text": [
      "jh\n",
      "Programa terminado.\n"
     ]
    }
   ],
   "source": [
    "def echo_until_exit():\n",
    "  while True:\n",
    "    user_input = input(\"Introduce algo (escribe 'salir' para terminar): \")\n",
    "    if user_input.lower() == \"salir\":\n",
    "      print(\"Programa terminado.\")\n",
    "      break\n",
    "    print(user_input)\n",
    "\n",
    "# Llamar a la función\n",
    "echo_until_exit()\n",
    "\n"
   ]
  },
  {
   "cell_type": "code",
   "execution_count": 2,
   "metadata": {},
   "outputs": [
    {
     "name": "stdout",
     "output_type": "stream",
     "text": [
      "3\n",
      "8 8\n",
      "7 8 4\n"
     ]
    }
   ],
   "source": [
    "import random\n",
    "\n",
    "\n",
    "def generar_triangulo(escalones):\n",
    "  for i in range(1, escalones + 1):\n",
    "    fila = [str(random.randint(0, 9)) for _ in range(i)]\n",
    "    print(\" \".join(fila))\n",
    "\n",
    "# Pedir al usuario el número de escalones\n",
    "escalones = int(input(\"Introduce el número de escalones: \"))\n",
    "generar_triangulo(escalones)\n"
   ]
  },
  {
   "cell_type": "markdown",
   "metadata": {},
   "source": [
    "### 2. **Listas y Tuplas**\n",
    "\n",
    "   - **Actividad 1**: Escribir un programa que pida al usuario una frase y muestre por pantalla el número de veces que contiene cada vocal y la cantidad de espacios en blanco.\n",
    "\n",
    "   - **Actividad 2**: Escribir un programa que cree una matriz (con numeros aleatorios del 1 al 100) usando las dimensiones de X e Y que el usuario deberia ingresar por consola, luego crea una tupla con la matriz transpuesta y por ultimo las muestra ambas por consola .\n",
    "\n",
    "   - **Actividad 3**: Escribir un programa que almacene en una lista los siguientes precios, 50, 75, 46, 22, 80, 65, 8, y muestre por pantalla el menor y el mayor de los precios"
   ]
  },
  {
   "cell_type": "code",
   "execution_count": null,
   "metadata": {},
   "outputs": [],
   "source": [
    "\n",
    "def contar_vocales_y_espacios(frase):\n",
    "  vocales = \"aeiou\"\n",
    "  conteo_vocales = {vocal: frase.lower().count(vocal) for vocal in vocales}\n",
    "  espacios = frase.count(\" \")\n",
    "  return conteo_vocales, espacios\n",
    "\n",
    "# Pedir al usuario una frase\n",
    "frase = input(\"Introduce una frase: \")\n",
    "conteo_vocales, espacios = contar_vocales_y_espacios(frase)\n",
    "\n",
    "# Mostrar resultados\n",
    "print(\"Conteo de vocales:\", conteo_vocales)\n",
    "print(\"Cantidad de espacios en blanco:\", espacios)"
   ]
  },
  {
   "cell_type": "code",
   "execution_count": null,
   "metadata": {},
   "outputs": [],
   "source": [
    "import random\n",
    "\n",
    "\n",
    "def crear_matriz(x, y):\n",
    "  return [[random.randint(1, 100) for _ in range(y)] for _ in range(x)]\n",
    "\n",
    "def transponer_matriz(matriz):\n",
    "  return tuple(zip(*matriz))\n",
    "\n",
    "# Pedir al usuario las dimensiones de la matriz\n",
    "x = int(input(\"Introduce el número de filas (X): \"))\n",
    "y = int(input(\"Introduce el número de columnas (Y): \"))\n",
    "\n",
    "# Crear la matriz y su transpuesta\n",
    "matriz = crear_matriz(x, y)\n",
    "matriz_transpuesta = transponer_matriz(matriz)\n",
    "\n",
    "# Mostrar ambas matrices\n",
    "print(\"Matriz original:\")\n",
    "for fila in matriz:\n",
    "  print(fila)\n",
    "\n",
    "print(\"\\nMatriz transpuesta:\")\n",
    "for fila in matriz_transpuesta:\n",
    "  print(fila)"
   ]
  },
  {
   "cell_type": "code",
   "execution_count": null,
   "metadata": {},
   "outputs": [],
   "source": [
    "\n",
    "# Lista de precios\n",
    "precios = [50, 75, 46, 22, 80, 65, 8]\n",
    "\n",
    "# Encontrar el menor y el mayor precio\n",
    "menor_precio = min(precios)\n",
    "mayor_precio = max(precios)\n",
    "\n",
    "# Mostrar resultados\n",
    "print(\"El menor precio es:\", menor_precio)\n",
    "print(\"El mayor precio es:\", mayor_precio)"
   ]
  },
  {
   "cell_type": "markdown",
   "metadata": {},
   "source": [
    "### 3. **Diccionarios**\n",
    "\n",
    "   - **Actividad 1**: Escribir un programa que cree un diccionario simulando una cesta de la compra. El programa debe preguntar el artículo y su precio y añadir el par al diccionario, hasta que el usuario decida terminar. Después se debe mostrar por pantalla la lista de la compra y el coste total, con el siguiente formato.\n",
    "\n",
    "   | arts  |precio |\n",
    "   |-------|-------|\n",
    "   |art 1  |1      |\n",
    "   |art 2  |2      |\n",
    "   |art 3  |3      |\n",
    "   |total  |6      |\n",
    "\n",
    "   - **Actividad 2**: Escribir un programa que cree un diccionario de traducción español-inglés. El usuario introducirá las palabras en español e inglés separadas por dos puntos, y cada par <palabra> : <traducción> separados por comas (es decir, solo se debe usar **UNA VEZ** la función input para la carga de palabras). El programa debe crear un diccionario con las palabras y sus traducciones. Después pedirá una frase en español y utilizará el diccionario para traducirla palabra a palabra. Si una palabra no está en el diccionario debe dejarla sin traducir.\n",
    "\n",
    "   - **Actividad 3**: Escribir un programa que reciba una cadena de caracteres y devuelva un diccionario con cada palabra que contiene y su frecuencia. Escribir otra función que reciba el diccionario generado con la función anterior y devuelva una tupla con la palabra más repetida y su frecuencia."
   ]
  },
  {
   "cell_type": "code",
   "execution_count": 13,
   "metadata": {},
   "outputs": [
    {
     "name": "stdout",
     "output_type": "stream",
     "text": [
      "Por favor, introduce un precio válido.\n",
      "Por favor, introduce un precio válido.\n",
      "Por favor, introduce un precio válido.\n",
      "\n",
      "| arts  |precio |\n",
      "|-------|-------|\n",
      "|total  |0      |\n"
     ]
    }
   ],
   "source": [
    "\n",
    "def crear_cesta_compra():\n",
    "  cesta = {}\n",
    "  while True:\n",
    "    articulo = input(\"Introduce el nombre del artículo (o escribe 'terminar' para finalizar): \")\n",
    "    if articulo.lower() == \"terminar\":\n",
    "      break\n",
    "    try:\n",
    "      precio = float(input(f\"Introduce el precio de '{articulo}': \"))\n",
    "      cesta[articulo] = precio\n",
    "    except ValueError:\n",
    "      print(\"Por favor, introduce un precio válido.\")\n",
    "  \n",
    "  # Mostrar la lista de la compra y el coste total\n",
    "  print(\"\\n| arts  |precio |\")\n",
    "  print(\"|-------|-------|\")\n",
    "  total = 0\n",
    "  for articulo, precio in cesta.items():\n",
    "    print(f\"|{articulo:<7}|{precio:<7}|\")\n",
    "    total += precio\n",
    "  print(f\"|{'total':<7}|{total:<7}|\")\n",
    "\n",
    "# Llamar a la función\n",
    "crear_cesta_compra()"
   ]
  },
  {
   "cell_type": "code",
   "execution_count": 15,
   "metadata": {},
   "outputs": [
    {
     "name": "stdout",
     "output_type": "stream",
     "text": [
      "Frase traducida: dog\n"
     ]
    }
   ],
   "source": [
    "\n",
    "def crear_diccionario_traduccion():\n",
    "  # Solicitar al usuario las palabras y sus traducciones\n",
    "  entrada = input(\"Introduce las palabras y sus traducciones en el formato 'español:inglés,español:inglés,...': \")\n",
    "  pares = entrada.split(\",\")\n",
    "  diccionario = {}\n",
    "  \n",
    "  for par in pares:\n",
    "    try:\n",
    "      espanol, ingles = par.split(\":\")\n",
    "      diccionario[espanol.strip()] = ingles.strip()\n",
    "    except ValueError:\n",
    "      print(f\"El par '{par}' no tiene el formato correcto y será ignorado.\")\n",
    "  \n",
    "  return diccionario\n",
    "\n",
    "def traducir_frase(diccionario):\n",
    "  frase = input(\"Introduce una frase en español para traducir: \")\n",
    "  palabras = frase.split()\n",
    "  traduccion = [diccionario.get(palabra, palabra) for palabra in palabras]\n",
    "  return \" \".join(traduccion)\n",
    "\n",
    "# Crear el diccionario de traducción\n",
    "diccionario_traduccion = crear_diccionario_traduccion()\n",
    "\n",
    "# Traducir una frase\n",
    "frase_traducida = traducir_frase(diccionario_traduccion)\n",
    "print(\"Frase traducida:\", frase_traducida)"
   ]
  },
  {
   "cell_type": "code",
   "execution_count": null,
   "metadata": {},
   "outputs": [
    {
     "ename": "AttributeError",
     "evalue": "'dict' object has no attribute 'split'",
     "output_type": "error",
     "traceback": [
      "\u001b[31m---------------------------------------------------------------------------\u001b[39m",
      "\u001b[31mAttributeError\u001b[39m                            Traceback (most recent call last)",
      "\u001b[36mCell\u001b[39m\u001b[36m \u001b[39m\u001b[32mIn[19]\u001b[39m\u001b[32m, line 27\u001b[39m\n\u001b[32m     24\u001b[39m   \u001b[38;5;28;01mreturn\u001b[39;00m palabra, diccionario[palabra]\n\u001b[32m     26\u001b[39m \u001b[38;5;66;03m# Ejemplo de uso\u001b[39;00m\n\u001b[32m---> \u001b[39m\u001b[32m27\u001b[39m frecuencia_palabras = \u001b[43mcontar_palabras\u001b[49m\u001b[43m(\u001b[49m\u001b[43mdiccionario_traduccion\u001b[49m\u001b[43m)\u001b[49m\n\u001b[32m     28\u001b[39m \u001b[38;5;28mprint\u001b[39m(\u001b[33m\"\u001b[39m\u001b[33mFrecuencia de palabras:\u001b[39m\u001b[33m\"\u001b[39m, frecuencia_palabras)\n\u001b[32m     30\u001b[39m palabra, frecuencia = palabra_mas_repetida(frecuencia_palabras)\n",
      "\u001b[36mCell\u001b[39m\u001b[36m \u001b[39m\u001b[32mIn[19]\u001b[39m\u001b[32m, line 8\u001b[39m, in \u001b[36mcontar_palabras\u001b[39m\u001b[34m(cadena)\u001b[39m\n\u001b[32m      1\u001b[39m \u001b[38;5;28;01mdef\u001b[39;00m\u001b[38;5;250m \u001b[39m\u001b[34mcontar_palabras\u001b[39m(cadena):\n\u001b[32m      2\u001b[39m \u001b[38;5;250m  \u001b[39m\u001b[33;03m\"\"\"\u001b[39;00m\n\u001b[32m      3\u001b[39m \u001b[33;03m  Recibe una cadena de caracteres y devuelve un diccionario con cada palabra y su frecuencia.\u001b[39;00m\n\u001b[32m      4\u001b[39m \n\u001b[32m      5\u001b[39m \u001b[33;03m  :param cadena: Cadena de caracteres.\u001b[39;00m\n\u001b[32m      6\u001b[39m \u001b[33;03m  :return: Diccionario con palabras como claves y frecuencias como valores.\u001b[39;00m\n\u001b[32m      7\u001b[39m \u001b[33;03m  \"\"\"\u001b[39;00m\n\u001b[32m----> \u001b[39m\u001b[32m8\u001b[39m   palabras = \u001b[43mcadena\u001b[49m\u001b[43m.\u001b[49m\u001b[43msplit\u001b[49m()\n\u001b[32m      9\u001b[39m   frecuencia = {}\n\u001b[32m     10\u001b[39m   \u001b[38;5;28;01mfor\u001b[39;00m palabra \u001b[38;5;129;01min\u001b[39;00m palabras:\n",
      "\u001b[31mAttributeError\u001b[39m: 'dict' object has no attribute 'split'"
     ]
    }
   ],
   "source": [
    "\n",
    "def contar_palabras(cadena):\n",
    "  \"\"\"\n",
    "  Recibe una cadena de caracteres y devuelve un diccionario con cada palabra y su frecuencia.\n",
    "\n",
    "  :param cadena: Cadena de caracteres.\n",
    "  :return: Diccionario con palabras como claves y frecuencias como valores.\n",
    "  \"\"\"\n",
    "  palabras = cadena.split()\n",
    "  frecuencia = {}\n",
    "  for palabra in palabras:\n",
    "    frecuencia[palabra] = frecuencia.get(palabra, 0) + 1\n",
    "  return frecuencia\n",
    "\n",
    "def palabra_mas_repetida(diccionario):\n",
    "  \"\"\"\n",
    "  Recibe un diccionario de palabras y frecuencias, y devuelve una tupla con la palabra más repetida y su frecuencia.\n",
    "\n",
    "  :param diccionario: Diccionario con palabras como claves y frecuencias como valores.\n",
    "  :return: Tupla con la palabra más repetida y su frecuencia.\n",
    "  \"\"\"\n",
    "  if not diccionario:\n",
    "    return None, 0\n",
    "  palabra = max(diccionario, key=diccionario.get)\n",
    "  return palabra, diccionario[palabra]\n",
    "\n",
    "# Ejemplo de uso\n",
    "# cadena = input(\"Introduce una cadena de caracteres: \")\n",
    "# frecuencia_palabras = contar_palabras(diccionario_traduccion)\n",
    "# print(\"Frecuencia de palabras:\", frecuencia_palabras)\n",
    "\n",
    "palabra, frecuencia = palabra_mas_repetida(diccionario_traduccion)\n",
    "print(f\"La palabra más repetida es '{palabra}' con una frecuencia de {frecuencia}.\")"
   ]
  },
  {
   "cell_type": "markdown",
   "metadata": {},
   "source": [
    "### 4. **Funciones**\n",
    "\n",
    "- **Actividad 1**: Escribir una función que calcule el total de una factura tras aplicarle el IVA. La función debe recibir la cantidad sin IVA y el porcentaje de IVA a aplicar, y devolver el total de la factura. Si se invoca la función sin pasarle el porcentaje de IVA, deberá aplicar un 21%.\n",
    "\n",
    "- **Actividad 2**: Escribir una función que reciba un número entero positivo y devuelva su factorial.\n"
   ]
  },
  {
   "cell_type": "code",
   "execution_count": 7,
   "metadata": {},
   "outputs": [
    {
     "name": "stdout",
     "output_type": "stream",
     "text": [
      "El total de la factura es: 124.74000000000001\n"
     ]
    }
   ],
   "source": [
    "\n",
    "def calcular_total_factura(cantidad_sin_iva, porcentaje_iva=21):\n",
    "  \"\"\"\n",
    "  Calcula el total de una factura tras aplicarle el IVA.\n",
    "\n",
    "  :param cantidad_sin_iva: Monto sin IVA.\n",
    "  :param porcentaje_iva: Porcentaje de IVA a aplicar (por defecto 21%).\n",
    "  :return: Total de la factura con IVA incluido.\n",
    "  \"\"\"\n",
    "  total = cantidad_sin_iva + (cantidad_sin_iva * porcentaje_iva / 100)\n",
    "  return total\n",
    "\n",
    "# Ejemplo de uso\n",
    "cantidad = float(input(\"Introduce la cantidad sin IVA: \"))\n",
    "iva = input(\"Introduce el porcentaje de IVA (presiona Enter para usar el 21%): \")\n",
    "\n",
    "if iva.strip() == \"\":\n",
    "  total = calcular_total_factura(cantidad)\n",
    "else:\n",
    "  total = calcular_total_factura(cantidad, float(iva))\n",
    "\n",
    "print(\"El total de la factura es:\", total)"
   ]
  },
  {
   "cell_type": "code",
   "execution_count": 10,
   "metadata": {},
   "outputs": [
    {
     "name": "stdout",
     "output_type": "stream",
     "text": [
      "El factorial de 5 es: 120\n"
     ]
    }
   ],
   "source": [
    "def calcular_factorial(numero):\n",
    "  \"\"\"\n",
    "  Calcula el factorial de un número entero positivo.\n",
    "\n",
    "  :param numero: Número entero positivo.\n",
    "  :return: Factorial del número.\n",
    "  \"\"\"\n",
    "  if numero == 0 or numero == 1:\n",
    "    return 1\n",
    "  factorial = 1\n",
    "  for i in range(2, numero + 1):\n",
    "    factorial *= i\n",
    "  return factorial\n",
    "\n",
    "entrada = int(input(\"Introduce un número entero positivo para calcular su factorial: \"))\n",
    "resultado = calcular_factorial(entrada)\n",
    "print(f\"El factorial de {entrada} es: {resultado}\")\n"
   ]
  }
 ],
 "metadata": {
  "kernelspec": {
   "display_name": "Python 3",
   "language": "python",
   "name": "python3"
  },
  "language_info": {
   "codemirror_mode": {
    "name": "ipython",
    "version": 3
   },
   "file_extension": ".py",
   "mimetype": "text/x-python",
   "name": "python",
   "nbconvert_exporter": "python",
   "pygments_lexer": "ipython3",
   "version": "3.13.3"
  }
 },
 "nbformat": 4,
 "nbformat_minor": 2
}
